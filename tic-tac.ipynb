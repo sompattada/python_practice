{
 "cells": [
  {
   "cell_type": "code",
   "execution_count": 18,
   "metadata": {},
   "outputs": [],
   "source": [
    "from IPython.display import clear_output\n",
    "def display_board(board):\n",
    "    clear_output()\n",
    "    print('selection positions')\n",
    "    print(' 1 |','2','| 3')\n",
    "    print('---|---|---')\n",
    "    print(' 4 |','5','| 6')\n",
    "    print('---|---|---')\n",
    "    print(' 7 |','8','| 9')\n",
    "    print('############# current game ##########')\n",
    "    print(board[1]+' | '+board[2]+' | '+board[3])\n",
    "    print('--|---|--')\n",
    "    print(board[4]+' | '+board[5]+' | '+board[6])\n",
    "    print('--|---|--')\n",
    "    print(board[7]+' | '+board[8]+' | '+board[9])"
   ]
  },
  {
   "cell_type": "code",
   "execution_count": 19,
   "metadata": {},
   "outputs": [
    {
     "name": "stdout",
     "output_type": "stream",
     "text": [
      "selection positions\n",
      " 1 | 2 | 3\n",
      "---|---|---\n",
      " 4 | 5 | 6\n",
      "---|---|---\n",
      " 7 | 8 | 9\n",
      "############# current game ##########\n",
      "  |   |  \n",
      "--|---|--\n",
      "  |   |  \n",
      "--|---|--\n",
      "  |   |  \n"
     ]
    }
   ],
   "source": [
    "board = ['#',' ',' ',' ',' ',' ',' ',' ',' ',' ']\n",
    "display_board(board)"
   ]
  },
  {
   "cell_type": "code",
   "execution_count": 20,
   "metadata": {},
   "outputs": [],
   "source": [
    "def user_selection():\n",
    "    sel = 'wrong'\n",
    "    while sel not in ['X','O']:\n",
    "       sel = input('player1 please select X/O !! ')\n",
    "       if sel == 'X':\n",
    "        player1 = 'X'\n",
    "        player2 = 'O'\n",
    "       elif sel == 'O':\n",
    "        player1 = 'O'\n",
    "        player2 = 'X'\n",
    "       else :\n",
    "        print('Invalid selection')\n",
    "    return(player1,player2)           "
   ]
  },
  {
   "cell_type": "code",
   "execution_count": 21,
   "metadata": {},
   "outputs": [],
   "source": [
    "def pos_sel(play,pos_takn):\n",
    "    valid_sel = list(range(1,10))\n",
    "    pos = 'N'\n",
    "    while pos not in valid_sel:\n",
    "        print(f'{play} chance to play')\n",
    "        pos = int(input('Enter the position where you wanna mark[1-9] !!'))\n",
    "        if pos in pos_takn:\n",
    "            print('position already taken')\n",
    "            pos = 'N'\n",
    "    return(pos)"
   ]
  },
  {
   "cell_type": "code",
   "execution_count": 40,
   "metadata": {},
   "outputs": [],
   "source": [
    "def tik_tok_game():\n",
    "    counter = 1\n",
    "    board = ['#',' ',' ',' ',' ',' ',' ',' ',' ',' ']\n",
    "    P1,P2=user_selection()\n",
    "    pos_taken=['0']\n",
    "    while counter < 10:\n",
    "        if counter%2 == 0:\n",
    "            chance='player2'\n",
    "            P=P2\n",
    "        else:\n",
    "            chance='player1'\n",
    "            P=P1\n",
    "        counter+=1\n",
    "        display_board(board)\n",
    "        pos_s=pos_sel(chance,pos_taken)\n",
    "        pos_taken.append(pos_s)\n",
    "        board[pos_s] = P\n",
    "        display_board(board)\n",
    "        fin=game_winner(board,chance)\n",
    "        if (fin):\n",
    "            continue\n",
    "        else:\n",
    "            break"
   ]
  },
  {
   "cell_type": "markdown",
   "metadata": {},
   "source": [
    "tik_tok_game()"
   ]
  },
  {
   "cell_type": "code",
   "execution_count": 36,
   "metadata": {},
   "outputs": [],
   "source": [
    "def game_winner(board,chance):\n",
    "    flag=1\n",
    "    if board[1] == board[2] and board[1] == board[3] and board[1] != ' ':\n",
    "        print(f'{chance} has won the game')\n",
    "        flag=0\n",
    "    elif board[4] == board[5] and board[4] == board[6] and board[4] != ' ':\n",
    "        print(f'{chance} has won the game')\n",
    "        flag=0\n",
    "    elif board[7] == board[8] and board[7] == board[9] and board[7] != ' ':\n",
    "        print(f'{chance} has won the game')\n",
    "        flag=0\n",
    "    elif board[1] == board[4] and board[1] == board[7] and board[1] != ' ':\n",
    "        print(f'{chance} has won the game')\n",
    "        flag=0\n",
    "    elif board[2] == board[5] and board[2] == board[8] and board[2] != ' ':\n",
    "        print(f'{chance} has won the game')\n",
    "        flag=0\n",
    "    elif board[3] == board[6] and board[3] == board[9] and board[3] != ' ':\n",
    "        print(f'{chance} has won the game')\n",
    "        flag=0\n",
    "    elif board[1] == board[5] and board[1] == board[9] and board[1] != ' ':\n",
    "        print(f'{chance} has won the game')\n",
    "        flag=0\n",
    "    elif board[3] == board[5] and board[3] == board[7] and board[3] != ' ':\n",
    "        print(f'{chance} has won the game')\n",
    "        flag=0\n",
    "    else:\n",
    "       flag=1    \n",
    "    return(flag)"
   ]
  },
  {
   "cell_type": "code",
   "execution_count": 39,
   "metadata": {},
   "outputs": [
    {
     "name": "stdout",
     "output_type": "stream",
     "text": [
      "selection positions\n",
      " 1 | 2 | 3\n",
      "---|---|---\n",
      " 4 | 5 | 6\n",
      "---|---|---\n",
      " 7 | 8 | 9\n",
      "############# current game ##########\n",
      "  |   |  \n",
      "--|---|--\n",
      "  | X |  \n",
      "--|---|--\n",
      "  |   |  \n"
     ]
    }
   ],
   "source": [
    "tik_tok_game()"
   ]
  },
  {
   "cell_type": "code",
   "execution_count": null,
   "metadata": {},
   "outputs": [],
   "source": []
  }
 ],
 "metadata": {
  "kernelspec": {
   "display_name": "Python 3",
   "language": "python",
   "name": "python3"
  },
  "language_info": {
   "codemirror_mode": {
    "name": "ipython",
    "version": 3
   },
   "file_extension": ".py",
   "mimetype": "text/x-python",
   "name": "python",
   "nbconvert_exporter": "python",
   "pygments_lexer": "ipython3",
   "version": "3.8.5"
  }
 },
 "nbformat": 4,
 "nbformat_minor": 4
}
