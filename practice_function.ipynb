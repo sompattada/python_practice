{
 "cells": [
  {
   "cell_type": "code",
   "execution_count": 7,
   "metadata": {},
   "outputs": [],
   "source": [
    "# print only even numbers from a list of numbers\n",
    "def myfunc(*args):\n",
    "    even_nbr=[]\n",
    "    for nbr in args:\n",
    "        if (nbr % 2 == 0):\n",
    "            even_nbr.append(nbr)\n",
    "    print(even_nbr)"
   ]
  },
  {
   "cell_type": "code",
   "execution_count": 8,
   "metadata": {},
   "outputs": [
    {
     "name": "stdout",
     "output_type": "stream",
     "text": [
      "[4, 8, 10]\n"
     ]
    }
   ],
   "source": [
    "myfunc(1,4,8,10,3,7)"
   ]
  },
  {
   "cell_type": "code",
   "execution_count": 28,
   "metadata": {},
   "outputs": [],
   "source": [
    "# print alternate lower and upper case letters of string\n",
    "def myfunc(args):\n",
    "    final=\"\"\n",
    "    for index,letter in enumerate(args):\n",
    "        if (index % 2 ==0):\n",
    "            final=final+letter.upper()\n",
    "        else:\n",
    "            final=final+letter.lower()\n",
    "    print(final)"
   ]
  },
  {
   "cell_type": "code",
   "execution_count": 30,
   "metadata": {},
   "outputs": [
    {
     "name": "stdout",
     "output_type": "stream",
     "text": [
      "SoM Is gOoD\n"
     ]
    }
   ],
   "source": [
    "myfunc(\"som is good\")"
   ]
  },
  {
   "cell_type": "code",
   "execution_count": null,
   "metadata": {},
   "outputs": [],
   "source": []
  }
 ],
 "metadata": {
  "kernelspec": {
   "display_name": "Python 3",
   "language": "python",
   "name": "python3"
  },
  "language_info": {
   "codemirror_mode": {
    "name": "ipython",
    "version": 3
   },
   "file_extension": ".py",
   "mimetype": "text/x-python",
   "name": "python",
   "nbconvert_exporter": "python",
   "pygments_lexer": "ipython3",
   "version": "3.8.5"
  }
 },
 "nbformat": 4,
 "nbformat_minor": 4
}
