{
 "cells": [
  {
   "cell_type": "code",
   "execution_count": 51,
   "metadata": {},
   "outputs": [],
   "source": [
    "def display_board(board):\n",
    "    print('selection positions')\n",
    "    print(' 1 |','2','| 3')\n",
    "    print('---|---|---')\n",
    "    print(' 4 |','5','| 6')\n",
    "    print('---|---|---')\n",
    "    print(' 7 |','8','| 9')\n",
    "    print('#############')\n",
    "    print(board[1]+' | '+board[2]+' | '+board[3])\n",
    "    print('--|---|--')\n",
    "    print(board[4]+' | '+board[5]+' | '+board[6])\n",
    "    print('--|---|--')\n",
    "    print(board[7]+' | '+board[8]+' | '+board[9])"
   ]
  },
  {
   "cell_type": "code",
   "execution_count": 52,
   "metadata": {},
   "outputs": [
    {
     "name": "stdout",
     "output_type": "stream",
     "text": [
      "selection positions\n",
      " 1 | 2 | 3\n",
      "---|---|---\n",
      " 4 | 5 | 6\n",
      "---|---|---\n",
      " 7 | 8 | 9\n",
      "#############\n",
      "X | O | X\n",
      "--|---|--\n",
      "X | O | X\n",
      "--|---|--\n",
      "X | O | X\n"
     ]
    }
   ],
   "source": [
    "board = ['#','X','O','X','X','O','X','X','O','X']\n",
    "display_board(board)"
   ]
  },
  {
   "cell_type": "code",
   "execution_count": 66,
   "metadata": {},
   "outputs": [],
   "source": [
    "def user_selection():\n",
    "    sel = 'wrong'\n",
    "    while sel not in ['X','O']:\n",
    "       sel = input('player1 please select X/O !! ')\n",
    "       if sel == 'X':\n",
    "        player1 = 'X'\n",
    "        player2 = 'O'\n",
    "       elif sel == 'O':\n",
    "        player1 = 'O'\n",
    "        player2 = 'X'\n",
    "       else :\n",
    "        print('Invalid selection')\n",
    "    return(player1,player2)\n",
    "           "
   ]
  },
  {
   "cell_type": "code",
   "execution_count": 67,
   "metadata": {},
   "outputs": [
    {
     "name": "stdout",
     "output_type": "stream",
     "text": [
      "player1 please select X/O !! O\n"
     ]
    },
    {
     "data": {
      "text/plain": [
       "('O', 'X')"
      ]
     },
     "execution_count": 67,
     "metadata": {},
     "output_type": "execute_result"
    }
   ],
   "source": [
    "user_selection()"
   ]
  },
  {
   "cell_type": "code",
   "execution_count": 65,
   "metadata": {},
   "outputs": [
    {
     "ename": "NameError",
     "evalue": "name 'player1' is not defined",
     "output_type": "error",
     "traceback": [
      "\u001b[1;31m---------------------------------------------------------------------------\u001b[0m",
      "\u001b[1;31mNameError\u001b[0m                                 Traceback (most recent call last)",
      "\u001b[1;32m<ipython-input-65-c663a6d8b28e>\u001b[0m in \u001b[0;36m<module>\u001b[1;34m\u001b[0m\n\u001b[1;32m----> 1\u001b[1;33m \u001b[0mplayer1\u001b[0m\u001b[1;33m\u001b[0m\u001b[1;33m\u001b[0m\u001b[0m\n\u001b[0m",
      "\u001b[1;31mNameError\u001b[0m: name 'player1' is not defined"
     ]
    }
   ],
   "source": []
  },
  {
   "cell_type": "code",
   "execution_count": null,
   "metadata": {},
   "outputs": [],
   "source": []
  }
 ],
 "metadata": {
  "kernelspec": {
   "display_name": "Python 3",
   "language": "python",
   "name": "python3"
  },
  "language_info": {
   "codemirror_mode": {
    "name": "ipython",
    "version": 3
   },
   "file_extension": ".py",
   "mimetype": "text/x-python",
   "name": "python",
   "nbconvert_exporter": "python",
   "pygments_lexer": "ipython3",
   "version": "3.8.5"
  }
 },
 "nbformat": 4,
 "nbformat_minor": 4
}
